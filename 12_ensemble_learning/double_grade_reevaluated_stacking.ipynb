{
 "metadata": {
  "language_info": {
   "codemirror_mode": {
    "name": "ipython",
    "version": 3
   },
   "file_extension": ".py",
   "mimetype": "text/x-python",
   "name": "python",
   "nbconvert_exporter": "python",
   "pygments_lexer": "ipython3",
   "version": "3.8.5-final"
  },
  "orig_nbformat": 2,
  "kernelspec": {
   "name": "python3",
   "display_name": "Python 3",
   "language": "python"
  }
 },
 "nbformat": 4,
 "nbformat_minor": 2,
 "cells": [
  {
   "cell_type": "code",
   "execution_count": 2,
   "metadata": {},
   "outputs": [],
   "source": [
    "import numpy as np\n",
    "import pandas as pd\n",
    "import matplotlib.pyplot as plt\n",
    "import sklearn.tree as sk_trees\n",
    "import sklearn.model_selection as sk_model_selection\n",
    "import sklearn.ensemble as sk_ensemble\n",
    "import sklearn.pipeline as sk_pipeline\n",
    "import sklearn.preprocessing as sk_preprocessing\n",
    "import sklearn.neural_network as sk_nn\n",
    "import sklearn.svm as sk_svm\n",
    "import sklearn.linear_model as sk_linear\n",
    "import sklearn.metrics as sk_metrics"
   ]
  },
  {
   "cell_type": "code",
   "execution_count": 3,
   "metadata": {},
   "outputs": [],
   "source": [
    "qualifies_double_grade_df = pd.read_csv(r'https://raw.githubusercontent.com/AndriiLatysh/ml_4/master/data/double_grade_reevaluated.csv')\n",
    "\n",
    "X = qualifies_double_grade_df[[\"technical_grade\", \"english_grade\"]]\n",
    "y = qualifies_double_grade_df[\"qualifies\"]\n",
    "\n",
    "X_train, X_test, y_train, y_test = sk_model_selection.train_test_split(\n",
    "        X, y, test_size=0.25, shuffle=True)\n",
    "\n",
    "k_folds = sk_model_selection.StratifiedKFold(n_splits=4, shuffle=True)"
   ]
  },
  {
   "source": [
    "### Neural Network"
   ],
   "cell_type": "markdown",
   "metadata": {}
  },
  {
   "cell_type": "code",
   "execution_count": 8,
   "metadata": {},
   "outputs": [
    {
     "output_type": "stream",
     "name": "stdout",
     "text": [
      "Neural Network accurancy: 89.40\n"
     ]
    }
   ],
   "source": [
    "ann_model = sk_pipeline.Pipeline([(\"scaler\", sk_preprocessing.StandardScaler()),\n",
    "                                  (\"model\", sk_nn.MLPClassifier(hidden_layer_sizes=(10, 10),                                                                                                        activation=\"tanh\",\n",
    "                                                                max_iter=100_000))])\n",
    "ann_results = sk_model_selection.cross_val_score(ann_model, X_train, y_train, cv=k_folds)\n",
    "print(\"Neural Network accurancy: {:.2f}\".format(ann_results.mean() * 100))"
   ]
  },
  {
   "source": [
    "### Support Vector Machine"
   ],
   "cell_type": "markdown",
   "metadata": {}
  },
  {
   "cell_type": "code",
   "execution_count": 9,
   "metadata": {},
   "outputs": [
    {
     "output_type": "stream",
     "name": "stdout",
     "text": [
      "Support Vector Machine accurancy: 90.64\n"
     ]
    }
   ],
   "source": [
    "svm_model = sk_pipeline.Pipeline([(\"scaler\", sk_preprocessing.StandardScaler()),\n",
    "                                  (\"model\", sk_svm.SVC(probability=True))])\n",
    "svm_results = sk_model_selection.cross_val_score(svm_model, X_train, y_train, cv=k_folds)\n",
    "print(\"Support Vector Machine accurancy: {:.2f}\".format(svm_results.mean() * 100))"
   ]
  },
  {
   "source": [
    "### Random Forest"
   ],
   "cell_type": "markdown",
   "metadata": {}
  },
  {
   "cell_type": "code",
   "execution_count": 10,
   "metadata": {},
   "outputs": [
    {
     "output_type": "stream",
     "name": "stdout",
     "text": [
      "Random Forest accurancy: 88.16\n"
     ]
    }
   ],
   "source": [
    "rfc_model = sk_ensemble.RandomForestClassifier(n_jobs=-1)\n",
    "rfc_results = sk_model_selection.cross_val_score(rfc_model, X_train, y_train, cv=k_folds)\n",
    "print(\"Random Forest accurancy: {:.2f}\".format(rfc_results.mean() * 100))"
   ]
  },
  {
   "source": [
    "### Stacking Classifier"
   ],
   "cell_type": "markdown",
   "metadata": {}
  },
  {
   "cell_type": "code",
   "execution_count": 11,
   "metadata": {},
   "outputs": [
    {
     "output_type": "stream",
     "name": "stdout",
     "text": [
      "Stacking Classifier accurancy: 96.00 %\nCPU times: user 3.22 s, sys: 50.5 ms, total: 3.27 s\nWall time: 3.89 s\n"
     ]
    }
   ],
   "source": [
    "%%time\n",
    "\n",
    "estimators = [\n",
    "    (\"ANN\", ann_model),\n",
    "    (\"SVM\", svm_model),\n",
    "    (\"RFC\", rfc_model)\n",
    "]\n",
    "\n",
    "meta_estimator = sk_linear.LogisticRegression()\n",
    "\n",
    "ensemble_model = sk_ensemble.StackingClassifier(\n",
    "    estimators=estimators, final_estimator=meta_estimator)\n",
    "ensemble_model.fit(X_train, y_train)\n",
    "ensemble_prediction = ensemble_model.predict(X_test)\n",
    "\n",
    "print(\"Stacking Classifier accurancy: {:.2f} %\".format(sk_metrics.accuracy_score(y_test, ensemble_prediction) * 100))\n"
   ]
  },
  {
   "cell_type": "code",
   "execution_count": null,
   "metadata": {},
   "outputs": [],
   "source": []
  }
 ]
}