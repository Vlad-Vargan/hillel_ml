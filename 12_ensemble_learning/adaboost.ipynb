{
 "metadata": {
  "language_info": {
   "codemirror_mode": {
    "name": "ipython",
    "version": 3
   },
   "file_extension": ".py",
   "mimetype": "text/x-python",
   "name": "python",
   "nbconvert_exporter": "python",
   "pygments_lexer": "ipython3",
   "version": "3.8.5-final"
  },
  "orig_nbformat": 2,
  "kernelspec": {
   "name": "python3",
   "display_name": "Python 3",
   "language": "python"
  }
 },
 "nbformat": 4,
 "nbformat_minor": 2,
 "cells": [
  {
   "cell_type": "code",
   "execution_count": 1,
   "metadata": {},
   "outputs": [],
   "source": [
    "import pandas as pd\n",
    "import matplotlib.pyplot as plt\n",
    "import sklearn.tree as sk_tree\n",
    "import sklearn.model_selection as sk_model_selection\n",
    "import sklearn.metrics as sk_metrics\n",
    "import sklearn.ensemble as sk_ensemble"
   ]
  },
  {
   "cell_type": "code",
   "execution_count": 2,
   "metadata": {},
   "outputs": [],
   "source": [
    "diabets_df = pd.read_csv(r\"https://raw.githubusercontent.com/AndriiLatysh/ml_4/master/data/pima-indians-diabetes.csv\")\n",
    "\n",
    "column_names = diabets_df.columns.values\n",
    "\n",
    "X = diabets_df[column_names[:-1]]\n",
    "y = diabets_df[column_names[-1]]"
   ]
  },
  {
   "cell_type": "code",
   "execution_count": 6,
   "metadata": {},
   "outputs": [
    {
     "output_type": "stream",
     "name": "stdout",
     "text": [
      "Accurancy: 77.08 %\n[[108  15]\n [ 29  40]]\n"
     ]
    }
   ],
   "source": [
    "X_train, X_test, y_train, y_test = sk_model_selection.train_test_split(X, y)\n",
    "\n",
    "adaboost_classifier = sk_ensemble.AdaBoostClassifier()\n",
    "adaboost_classifier.fit(X_train, y_train)\n",
    "\n",
    "y_predicted = adaboost_classifier.predict(X_test)\n",
    "\n",
    "print(\"Accurancy: {:.2f} %\".format(sk_metrics.accuracy_score(y_test, y_predicted) * 100))\n",
    "\n",
    "confusion_matrix = sk_metrics.confusion_matrix(y_test, y_predicted)\n",
    "print(confusion_matrix)"
   ]
  },
  {
   "cell_type": "code",
   "execution_count": null,
   "metadata": {},
   "outputs": [],
   "source": []
  }
 ]
}